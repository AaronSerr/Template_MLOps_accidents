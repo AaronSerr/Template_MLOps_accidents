{
 "cells": [
  {
   "cell_type": "code",
   "execution_count": 2,
   "metadata": {},
   "outputs": [],
   "source": [
    "import pandas as pd\n",
    "import numpy as np"
   ]
  },
  {
   "cell_type": "code",
   "execution_count": null,
   "metadata": {},
   "outputs": [],
   "source": []
  },
  {
   "cell_type": "code",
   "execution_count": 38,
   "metadata": {},
   "outputs": [
    {
     "ename": "ModuleNotFoundError",
     "evalue": "No module named 'chardet'",
     "output_type": "error",
     "traceback": [
      "\u001b[1;31m---------------------------------------------------------------------------\u001b[0m",
      "\u001b[1;31mModuleNotFoundError\u001b[0m                       Traceback (most recent call last)",
      "Cell \u001b[1;32mIn[38], line 1\u001b[0m\n\u001b[1;32m----> 1\u001b[0m \u001b[39mimport\u001b[39;00m \u001b[39mchardet\u001b[39;00m\n\u001b[0;32m      3\u001b[0m \u001b[39mwith\u001b[39;00m \u001b[39mopen\u001b[39m(\u001b[39m'\u001b[39m\u001b[39mC:/Users/lenov/Documents/Template_MLOps_accidents/data/raw/caracteristiques-2021.csv\u001b[39m\u001b[39m'\u001b[39m, \u001b[39m'\u001b[39m\u001b[39mrb\u001b[39m\u001b[39m'\u001b[39m) \u001b[39mas\u001b[39;00m file:\n\u001b[0;32m      4\u001b[0m     result \u001b[39m=\u001b[39m chardet\u001b[39m.\u001b[39mdetect(file\u001b[39m.\u001b[39mread())\n",
      "\u001b[1;31mModuleNotFoundError\u001b[0m: No module named 'chardet'"
     ]
    }
   ],
   "source": [
    "import chardet\n",
    "\n",
    "with open('C:/Users/lenov/Documents/Template_MLOps_accidents/data/raw/caracteristiques-2021.csv', 'rb') as file:\n",
    "    result = chardet.detect(file.read())\n",
    "\n",
    "print(result['encoding'])"
   ]
  },
  {
   "cell_type": "code",
   "execution_count": 39,
   "metadata": {},
   "outputs": [],
   "source": [
    "#Création des DF\n",
    "df_users=pd.read_csv(\"C:/Users/lenov/Documents/Template_MLOps_accidents/data/raw/usagers-2021.csv\", sep=\";\")\n",
    "df_places=pd.read_csv(\"C:/Users/lenov/Documents/Template_MLOps_accidents/data/raw/lieux-2021.csv\", sep=\";\", header=0, low_memory=False)\n",
    "df_caract=pd.read_csv(\"C:/Users/lenov/Documents/Template_MLOps_accidents/data/raw/caracteristiques-2021.csv\", sep = \";\", encoding='utf-8')\n",
    "df_veh=pd.read_csv(\"C:/Users/lenov/Documents/Template_MLOps_accidents/data/raw/vehicules-2021.csv\", sep=\";\")"
   ]
  },
  {
   "cell_type": "code",
   "execution_count": 26,
   "metadata": {},
   "outputs": [
    {
     "name": "stderr",
     "output_type": "stream",
     "text": [
      "C:\\Users\\lenov\\AppData\\Local\\Temp\\ipykernel_11392\\574975583.py:1: DtypeWarning: Columns (14) have mixed types. Specify dtype option on import or set low_memory=False.\n",
      "  df = pd.read_csv(\"C:/Users/lenov/Desktop/caracteristics.csv\",encoding='ISO-8859-1')\n"
     ]
    }
   ],
   "source": [
    "df = pd.read_csv(\"C:/Users/lenov/Desktop/caracteristics.csv\",encoding='ISO-8859-1')"
   ]
  },
  {
   "cell_type": "markdown",
   "metadata": {},
   "source": [
    "# DataSet Users "
   ]
  },
  {
   "cell_type": "code",
   "execution_count": 6,
   "metadata": {},
   "outputs": [
    {
     "data": {
      "text/plain": [
       "Num_Acc           0\n",
       "id_vehicule       0\n",
       "num_veh           0\n",
       "place             0\n",
       "catu              0\n",
       "grav              0\n",
       "sexe              0\n",
       "an_nais        3067\n",
       "trajet            0\n",
       "secu1             0\n",
       "secu2             0\n",
       "secu3             0\n",
       "locp              0\n",
       "actp              0\n",
       "etatp             0\n",
       "dtype: int64"
      ]
     },
     "execution_count": 6,
     "metadata": {},
     "output_type": "execute_result"
    }
   ],
   "source": [
    "df_users.isna().sum()"
   ]
  },
  {
   "cell_type": "code",
   "execution_count": 7,
   "metadata": {},
   "outputs": [
    {
     "data": {
      "text/plain": [
       "Num_Acc        0\n",
       "catr           0\n",
       "voie        4407\n",
       "v1             0\n",
       "v2         51528\n",
       "circ           0\n",
       "nbv            0\n",
       "vosp           0\n",
       "prof           0\n",
       "pr             0\n",
       "pr1            0\n",
       "plan           0\n",
       "lartpc     56410\n",
       "larrout        0\n",
       "surf           0\n",
       "infra          0\n",
       "situ           0\n",
       "vma            0\n",
       "dtype: int64"
      ]
     },
     "execution_count": 7,
     "metadata": {},
     "output_type": "execute_result"
    }
   ],
   "source": [
    "df_places.isna().sum()"
   ]
  },
  {
   "cell_type": "markdown",
   "metadata": {},
   "source": [
    "# Dataset caractéristiques"
   ]
  },
  {
   "cell_type": "code",
   "execution_count": 40,
   "metadata": {},
   "outputs": [
    {
     "data": {
      "text/html": [
       "<div>\n",
       "<style scoped>\n",
       "    .dataframe tbody tr th:only-of-type {\n",
       "        vertical-align: middle;\n",
       "    }\n",
       "\n",
       "    .dataframe tbody tr th {\n",
       "        vertical-align: top;\n",
       "    }\n",
       "\n",
       "    .dataframe thead th {\n",
       "        text-align: right;\n",
       "    }\n",
       "</style>\n",
       "<table border=\"1\" class=\"dataframe\">\n",
       "  <thead>\n",
       "    <tr style=\"text-align: right;\">\n",
       "      <th></th>\n",
       "      <th>Num_Acc</th>\n",
       "      <th>jour</th>\n",
       "      <th>mois</th>\n",
       "      <th>an</th>\n",
       "      <th>hrmn</th>\n",
       "      <th>lum</th>\n",
       "      <th>dep</th>\n",
       "      <th>com</th>\n",
       "      <th>agg</th>\n",
       "      <th>int</th>\n",
       "      <th>atm</th>\n",
       "      <th>col</th>\n",
       "      <th>adr</th>\n",
       "      <th>lat</th>\n",
       "      <th>long</th>\n",
       "    </tr>\n",
       "  </thead>\n",
       "  <tbody>\n",
       "    <tr>\n",
       "      <th>0</th>\n",
       "      <td>202100000001</td>\n",
       "      <td>30</td>\n",
       "      <td>11</td>\n",
       "      <td>2021</td>\n",
       "      <td>07:32</td>\n",
       "      <td>2</td>\n",
       "      <td>30</td>\n",
       "      <td>30319</td>\n",
       "      <td>1</td>\n",
       "      <td>1</td>\n",
       "      <td>1</td>\n",
       "      <td>1</td>\n",
       "      <td>CD 981</td>\n",
       "      <td>44,0389580000</td>\n",
       "      <td>4,3480220000</td>\n",
       "    </tr>\n",
       "    <tr>\n",
       "      <th>1</th>\n",
       "      <td>202100000002</td>\n",
       "      <td>25</td>\n",
       "      <td>9</td>\n",
       "      <td>2021</td>\n",
       "      <td>14:20</td>\n",
       "      <td>1</td>\n",
       "      <td>51</td>\n",
       "      <td>51544</td>\n",
       "      <td>1</td>\n",
       "      <td>3</td>\n",
       "      <td>1</td>\n",
       "      <td>3</td>\n",
       "      <td>Aire de repos croisement D20E9 aprÃ¨s sortie D977</td>\n",
       "      <td>49,2421290000</td>\n",
       "      <td>4,5545460000</td>\n",
       "    </tr>\n",
       "    <tr>\n",
       "      <th>2</th>\n",
       "      <td>202100000003</td>\n",
       "      <td>15</td>\n",
       "      <td>7</td>\n",
       "      <td>2021</td>\n",
       "      <td>07:55</td>\n",
       "      <td>1</td>\n",
       "      <td>85</td>\n",
       "      <td>85048</td>\n",
       "      <td>2</td>\n",
       "      <td>1</td>\n",
       "      <td>7</td>\n",
       "      <td>6</td>\n",
       "      <td>15 rue FranÃ§ois Nicolas</td>\n",
       "      <td>46,9219500000</td>\n",
       "      <td>-0,9644600000</td>\n",
       "    </tr>\n",
       "    <tr>\n",
       "      <th>3</th>\n",
       "      <td>202100000004</td>\n",
       "      <td>27</td>\n",
       "      <td>3</td>\n",
       "      <td>2021</td>\n",
       "      <td>19:45</td>\n",
       "      <td>5</td>\n",
       "      <td>93</td>\n",
       "      <td>93005</td>\n",
       "      <td>2</td>\n",
       "      <td>2</td>\n",
       "      <td>3</td>\n",
       "      <td>6</td>\n",
       "      <td>Route de Mitry</td>\n",
       "      <td>48,9493634583</td>\n",
       "      <td>2,5196639908</td>\n",
       "    </tr>\n",
       "    <tr>\n",
       "      <th>4</th>\n",
       "      <td>202100000005</td>\n",
       "      <td>25</td>\n",
       "      <td>2</td>\n",
       "      <td>2021</td>\n",
       "      <td>07:20</td>\n",
       "      <td>5</td>\n",
       "      <td>76</td>\n",
       "      <td>76429</td>\n",
       "      <td>2</td>\n",
       "      <td>1</td>\n",
       "      <td>1</td>\n",
       "      <td>2</td>\n",
       "      <td>PARIS. ROUTE DE</td>\n",
       "      <td>49,4083800000</td>\n",
       "      <td>1,1458100000</td>\n",
       "    </tr>\n",
       "  </tbody>\n",
       "</table>\n",
       "</div>"
      ],
      "text/plain": [
       "        Num_Acc  jour  mois    an   hrmn  lum dep    com  agg  int  atm  col  \\\n",
       "0  202100000001    30    11  2021  07:32    2  30  30319    1    1    1    1   \n",
       "1  202100000002    25     9  2021  14:20    1  51  51544    1    3    1    3   \n",
       "2  202100000003    15     7  2021  07:55    1  85  85048    2    1    7    6   \n",
       "3  202100000004    27     3  2021  19:45    5  93  93005    2    2    3    6   \n",
       "4  202100000005    25     2  2021  07:20    5  76  76429    2    1    1    2   \n",
       "\n",
       "                                                 adr            lat  \\\n",
       "0                                             CD 981  44,0389580000   \n",
       "1  Aire de repos croisement D20E9 aprÃ¨s sortie D977  49,2421290000   \n",
       "2                           15 rue FranÃ§ois Nicolas  46,9219500000   \n",
       "3                                     Route de Mitry  48,9493634583   \n",
       "4                                    PARIS. ROUTE DE  49,4083800000   \n",
       "\n",
       "             long  \n",
       "0    4,3480220000  \n",
       "1    4,5545460000  \n",
       "2   -0,9644600000  \n",
       "3    2,5196639908  \n",
       "4    1,1458100000  "
      ]
     },
     "execution_count": 40,
     "metadata": {},
     "output_type": "execute_result"
    }
   ],
   "source": [
    "df_caract.head()"
   ]
  },
  {
   "cell_type": "markdown",
   "metadata": {},
   "source": [
    "Suppression variable adresse car trop peu utilisable"
   ]
  },
  {
   "cell_type": "code",
   "execution_count": 41,
   "metadata": {},
   "outputs": [],
   "source": [
    "df_caract = df_caract.drop(columns = 'adr')"
   ]
  },
  {
   "cell_type": "code",
   "execution_count": 47,
   "metadata": {},
   "outputs": [
    {
     "data": {
      "text/plain": [
       "(56518, 14)"
      ]
     },
     "execution_count": 47,
     "metadata": {},
     "output_type": "execute_result"
    }
   ],
   "source": [
    "df_caract.shape"
   ]
  },
  {
   "cell_type": "markdown",
   "metadata": {},
   "source": [
    "8 lines have value -1 for the variable atm "
   ]
  },
  {
   "cell_type": "code",
   "execution_count": 50,
   "metadata": {},
   "outputs": [],
   "source": [
    "df_caract = df_caract[df_caract[\"atm\"]!=-1]"
   ]
  },
  {
   "cell_type": "markdown",
   "metadata": {},
   "source": [
    "Grouping the modalities of the atm ( Atmosheric Conditions) variable into Risky and Normal. We include Other in Normal."
   ]
  },
  {
   "cell_type": "code",
   "execution_count": 51,
   "metadata": {},
   "outputs": [
    {
     "data": {
      "text/plain": [
       "array([1, 7, 3, 2, 8, 9, 5, 4, 6], dtype=int64)"
      ]
     },
     "execution_count": 51,
     "metadata": {},
     "output_type": "execute_result"
    }
   ],
   "source": [
    "df_caract['atm'].unique()"
   ]
  },
  {
   "cell_type": "code",
   "execution_count": 57,
   "metadata": {},
   "outputs": [
    {
     "name": "stderr",
     "output_type": "stream",
     "text": [
      "C:\\Users\\lenov\\AppData\\Local\\Temp\\ipykernel_11392\\1185451846.py:2: SettingWithCopyWarning: \n",
      "A value is trying to be set on a copy of a slice from a DataFrame.\n",
      "Try using .loc[row_indexer,col_indexer] = value instead\n",
      "\n",
      "See the caveats in the documentation: https://pandas.pydata.org/pandas-docs/stable/user_guide/indexing.html#returning-a-view-versus-a-copy\n",
      "  df_caract[\"atm\"] = df_caract[\"atm\"].replace(dico)\n"
     ]
    },
    {
     "data": {
      "text/html": [
       "<div>\n",
       "<style scoped>\n",
       "    .dataframe tbody tr th:only-of-type {\n",
       "        vertical-align: middle;\n",
       "    }\n",
       "\n",
       "    .dataframe tbody tr th {\n",
       "        vertical-align: top;\n",
       "    }\n",
       "\n",
       "    .dataframe thead th {\n",
       "        text-align: right;\n",
       "    }\n",
       "</style>\n",
       "<table border=\"1\" class=\"dataframe\">\n",
       "  <thead>\n",
       "    <tr style=\"text-align: right;\">\n",
       "      <th></th>\n",
       "      <th>Num_Acc</th>\n",
       "      <th>jour</th>\n",
       "      <th>mois</th>\n",
       "      <th>an</th>\n",
       "      <th>hrmn</th>\n",
       "      <th>lum</th>\n",
       "      <th>dep</th>\n",
       "      <th>com</th>\n",
       "      <th>agg</th>\n",
       "      <th>int</th>\n",
       "      <th>atm</th>\n",
       "      <th>col</th>\n",
       "      <th>lat</th>\n",
       "      <th>long</th>\n",
       "    </tr>\n",
       "  </thead>\n",
       "  <tbody>\n",
       "    <tr>\n",
       "      <th>0</th>\n",
       "      <td>202100000001</td>\n",
       "      <td>30</td>\n",
       "      <td>11</td>\n",
       "      <td>2021</td>\n",
       "      <td>07:32</td>\n",
       "      <td>2</td>\n",
       "      <td>30</td>\n",
       "      <td>30319</td>\n",
       "      <td>1</td>\n",
       "      <td>1</td>\n",
       "      <td>Normal</td>\n",
       "      <td>1</td>\n",
       "      <td>44,0389580000</td>\n",
       "      <td>4,3480220000</td>\n",
       "    </tr>\n",
       "    <tr>\n",
       "      <th>1</th>\n",
       "      <td>202100000002</td>\n",
       "      <td>25</td>\n",
       "      <td>9</td>\n",
       "      <td>2021</td>\n",
       "      <td>14:20</td>\n",
       "      <td>1</td>\n",
       "      <td>51</td>\n",
       "      <td>51544</td>\n",
       "      <td>1</td>\n",
       "      <td>3</td>\n",
       "      <td>Normal</td>\n",
       "      <td>3</td>\n",
       "      <td>49,2421290000</td>\n",
       "      <td>4,5545460000</td>\n",
       "    </tr>\n",
       "    <tr>\n",
       "      <th>2</th>\n",
       "      <td>202100000003</td>\n",
       "      <td>15</td>\n",
       "      <td>7</td>\n",
       "      <td>2021</td>\n",
       "      <td>07:55</td>\n",
       "      <td>1</td>\n",
       "      <td>85</td>\n",
       "      <td>85048</td>\n",
       "      <td>2</td>\n",
       "      <td>1</td>\n",
       "      <td>Risky</td>\n",
       "      <td>6</td>\n",
       "      <td>46,9219500000</td>\n",
       "      <td>-0,9644600000</td>\n",
       "    </tr>\n",
       "    <tr>\n",
       "      <th>3</th>\n",
       "      <td>202100000004</td>\n",
       "      <td>27</td>\n",
       "      <td>3</td>\n",
       "      <td>2021</td>\n",
       "      <td>19:45</td>\n",
       "      <td>5</td>\n",
       "      <td>93</td>\n",
       "      <td>93005</td>\n",
       "      <td>2</td>\n",
       "      <td>2</td>\n",
       "      <td>Risky</td>\n",
       "      <td>6</td>\n",
       "      <td>48,9493634583</td>\n",
       "      <td>2,5196639908</td>\n",
       "    </tr>\n",
       "    <tr>\n",
       "      <th>4</th>\n",
       "      <td>202100000005</td>\n",
       "      <td>25</td>\n",
       "      <td>2</td>\n",
       "      <td>2021</td>\n",
       "      <td>07:20</td>\n",
       "      <td>5</td>\n",
       "      <td>76</td>\n",
       "      <td>76429</td>\n",
       "      <td>2</td>\n",
       "      <td>1</td>\n",
       "      <td>Normal</td>\n",
       "      <td>2</td>\n",
       "      <td>49,4083800000</td>\n",
       "      <td>1,1458100000</td>\n",
       "    </tr>\n",
       "  </tbody>\n",
       "</table>\n",
       "</div>"
      ],
      "text/plain": [
       "        Num_Acc  jour  mois    an   hrmn  lum dep    com  agg  int     atm  \\\n",
       "0  202100000001    30    11  2021  07:32    2  30  30319    1    1  Normal   \n",
       "1  202100000002    25     9  2021  14:20    1  51  51544    1    3  Normal   \n",
       "2  202100000003    15     7  2021  07:55    1  85  85048    2    1   Risky   \n",
       "3  202100000004    27     3  2021  19:45    5  93  93005    2    2   Risky   \n",
       "4  202100000005    25     2  2021  07:20    5  76  76429    2    1  Normal   \n",
       "\n",
       "   col            lat            long  \n",
       "0    1  44,0389580000    4,3480220000  \n",
       "1    3  49,2421290000    4,5545460000  \n",
       "2    6  46,9219500000   -0,9644600000  \n",
       "3    6  48,9493634583    2,5196639908  \n",
       "4    2  49,4083800000    1,1458100000  "
      ]
     },
     "execution_count": 57,
     "metadata": {},
     "output_type": "execute_result"
    }
   ],
   "source": [
    "dico = {1:'Normal', 2:'Risky', 3:'Risky', 4:'Risky', 5:'Risky', 6:'Risky',7:'Risky', 8:'Normal', 9:'Normal'}\n",
    "df_caract[\"atm\"] = df_caract[\"atm\"].replace(dico)\n",
    "df_caract.head()"
   ]
  },
  {
   "cell_type": "code",
   "execution_count": 52,
   "metadata": {},
   "outputs": [
    {
     "data": {
      "text/plain": [
       "Num_Acc    0\n",
       "jour       0\n",
       "mois       0\n",
       "an         0\n",
       "hrmn       0\n",
       "lum        0\n",
       "dep        0\n",
       "com        0\n",
       "agg        0\n",
       "int        0\n",
       "atm        0\n",
       "col        0\n",
       "lat        0\n",
       "long       0\n",
       "dtype: int64"
      ]
     },
     "execution_count": 52,
     "metadata": {},
     "output_type": "execute_result"
    }
   ],
   "source": [
    "df_caract.isna().sum()"
   ]
  },
  {
   "cell_type": "code",
   "execution_count": 54,
   "metadata": {},
   "outputs": [
    {
     "data": {
      "text/html": [
       "<div>\n",
       "<style scoped>\n",
       "    .dataframe tbody tr th:only-of-type {\n",
       "        vertical-align: middle;\n",
       "    }\n",
       "\n",
       "    .dataframe tbody tr th {\n",
       "        vertical-align: top;\n",
       "    }\n",
       "\n",
       "    .dataframe thead th {\n",
       "        text-align: right;\n",
       "    }\n",
       "</style>\n",
       "<table border=\"1\" class=\"dataframe\">\n",
       "  <thead>\n",
       "    <tr style=\"text-align: right;\">\n",
       "      <th></th>\n",
       "      <th>Num_Acc</th>\n",
       "      <th>jour</th>\n",
       "      <th>mois</th>\n",
       "      <th>an</th>\n",
       "      <th>hrmn</th>\n",
       "      <th>lum</th>\n",
       "      <th>dep</th>\n",
       "      <th>com</th>\n",
       "      <th>agg</th>\n",
       "      <th>int</th>\n",
       "      <th>atm</th>\n",
       "      <th>col</th>\n",
       "      <th>lat</th>\n",
       "      <th>long</th>\n",
       "    </tr>\n",
       "  </thead>\n",
       "  <tbody>\n",
       "    <tr>\n",
       "      <th>39</th>\n",
       "      <td>202100000040</td>\n",
       "      <td>12</td>\n",
       "      <td>11</td>\n",
       "      <td>2021</td>\n",
       "      <td>21:25</td>\n",
       "      <td>5</td>\n",
       "      <td>987</td>\n",
       "      <td>98736</td>\n",
       "      <td>2</td>\n",
       "      <td>9</td>\n",
       "      <td>9</td>\n",
       "      <td>3</td>\n",
       "      <td>-17,5279960000</td>\n",
       "      <td>-149,5482580000</td>\n",
       "    </tr>\n",
       "    <tr>\n",
       "      <th>332</th>\n",
       "      <td>202100000333</td>\n",
       "      <td>22</td>\n",
       "      <td>11</td>\n",
       "      <td>2021</td>\n",
       "      <td>22:15</td>\n",
       "      <td>3</td>\n",
       "      <td>50</td>\n",
       "      <td>50502</td>\n",
       "      <td>1</td>\n",
       "      <td>1</td>\n",
       "      <td>9</td>\n",
       "      <td>2</td>\n",
       "      <td>49,0976000000</td>\n",
       "      <td>-1,0605000000</td>\n",
       "    </tr>\n",
       "    <tr>\n",
       "      <th>547</th>\n",
       "      <td>202100000548</td>\n",
       "      <td>16</td>\n",
       "      <td>12</td>\n",
       "      <td>2021</td>\n",
       "      <td>12:40</td>\n",
       "      <td>1</td>\n",
       "      <td>73</td>\n",
       "      <td>73212</td>\n",
       "      <td>2</td>\n",
       "      <td>1</td>\n",
       "      <td>9</td>\n",
       "      <td>4</td>\n",
       "      <td>45,5433702918</td>\n",
       "      <td>6,3019246459</td>\n",
       "    </tr>\n",
       "    <tr>\n",
       "      <th>806</th>\n",
       "      <td>202100000807</td>\n",
       "      <td>31</td>\n",
       "      <td>12</td>\n",
       "      <td>2021</td>\n",
       "      <td>19:30</td>\n",
       "      <td>3</td>\n",
       "      <td>33</td>\n",
       "      <td>33501</td>\n",
       "      <td>1</td>\n",
       "      <td>1</td>\n",
       "      <td>9</td>\n",
       "      <td>6</td>\n",
       "      <td>44,6521040000</td>\n",
       "      <td>-0,6169030000</td>\n",
       "    </tr>\n",
       "    <tr>\n",
       "      <th>834</th>\n",
       "      <td>202100000835</td>\n",
       "      <td>14</td>\n",
       "      <td>12</td>\n",
       "      <td>2021</td>\n",
       "      <td>17:00</td>\n",
       "      <td>1</td>\n",
       "      <td>05</td>\n",
       "      <td>05061</td>\n",
       "      <td>2</td>\n",
       "      <td>1</td>\n",
       "      <td>9</td>\n",
       "      <td>6</td>\n",
       "      <td>44,5639600000</td>\n",
       "      <td>6,0837900000</td>\n",
       "    </tr>\n",
       "    <tr>\n",
       "      <th>...</th>\n",
       "      <td>...</td>\n",
       "      <td>...</td>\n",
       "      <td>...</td>\n",
       "      <td>...</td>\n",
       "      <td>...</td>\n",
       "      <td>...</td>\n",
       "      <td>...</td>\n",
       "      <td>...</td>\n",
       "      <td>...</td>\n",
       "      <td>...</td>\n",
       "      <td>...</td>\n",
       "      <td>...</td>\n",
       "      <td>...</td>\n",
       "      <td>...</td>\n",
       "    </tr>\n",
       "    <tr>\n",
       "      <th>56379</th>\n",
       "      <td>202100056380</td>\n",
       "      <td>2</td>\n",
       "      <td>1</td>\n",
       "      <td>2021</td>\n",
       "      <td>20:30</td>\n",
       "      <td>3</td>\n",
       "      <td>91</td>\n",
       "      <td>91471</td>\n",
       "      <td>1</td>\n",
       "      <td>1</td>\n",
       "      <td>9</td>\n",
       "      <td>4</td>\n",
       "      <td>48,7141000000</td>\n",
       "      <td>2,1756800000</td>\n",
       "    </tr>\n",
       "    <tr>\n",
       "      <th>56454</th>\n",
       "      <td>202100056455</td>\n",
       "      <td>1</td>\n",
       "      <td>1</td>\n",
       "      <td>2021</td>\n",
       "      <td>19:05</td>\n",
       "      <td>3</td>\n",
       "      <td>80</td>\n",
       "      <td>80825</td>\n",
       "      <td>1</td>\n",
       "      <td>1</td>\n",
       "      <td>9</td>\n",
       "      <td>6</td>\n",
       "      <td>49,9594075089</td>\n",
       "      <td>1,8430694944</td>\n",
       "    </tr>\n",
       "    <tr>\n",
       "      <th>56464</th>\n",
       "      <td>202100056465</td>\n",
       "      <td>3</td>\n",
       "      <td>1</td>\n",
       "      <td>2021</td>\n",
       "      <td>11:30</td>\n",
       "      <td>1</td>\n",
       "      <td>64</td>\n",
       "      <td>64498</td>\n",
       "      <td>1</td>\n",
       "      <td>2</td>\n",
       "      <td>9</td>\n",
       "      <td>7</td>\n",
       "      <td>43,1454570000</td>\n",
       "      <td>-0,1490310000</td>\n",
       "    </tr>\n",
       "    <tr>\n",
       "      <th>56491</th>\n",
       "      <td>202100056492</td>\n",
       "      <td>1</td>\n",
       "      <td>1</td>\n",
       "      <td>2021</td>\n",
       "      <td>22:00</td>\n",
       "      <td>3</td>\n",
       "      <td>93</td>\n",
       "      <td>93007</td>\n",
       "      <td>1</td>\n",
       "      <td>1</td>\n",
       "      <td>9</td>\n",
       "      <td>6</td>\n",
       "      <td>48,9550900000</td>\n",
       "      <td>2,4575400000</td>\n",
       "    </tr>\n",
       "    <tr>\n",
       "      <th>56506</th>\n",
       "      <td>202100056507</td>\n",
       "      <td>1</td>\n",
       "      <td>1</td>\n",
       "      <td>2021</td>\n",
       "      <td>04:00</td>\n",
       "      <td>4</td>\n",
       "      <td>14</td>\n",
       "      <td>14119</td>\n",
       "      <td>1</td>\n",
       "      <td>6</td>\n",
       "      <td>9</td>\n",
       "      <td>6</td>\n",
       "      <td>49,1419520000</td>\n",
       "      <td>-0,2456690000</td>\n",
       "    </tr>\n",
       "  </tbody>\n",
       "</table>\n",
       "<p>293 rows × 14 columns</p>\n",
       "</div>"
      ],
      "text/plain": [
       "            Num_Acc  jour  mois    an   hrmn  lum  dep    com  agg  int  atm  \\\n",
       "39     202100000040    12    11  2021  21:25    5  987  98736    2    9    9   \n",
       "332    202100000333    22    11  2021  22:15    3   50  50502    1    1    9   \n",
       "547    202100000548    16    12  2021  12:40    1   73  73212    2    1    9   \n",
       "806    202100000807    31    12  2021  19:30    3   33  33501    1    1    9   \n",
       "834    202100000835    14    12  2021  17:00    1   05  05061    2    1    9   \n",
       "...             ...   ...   ...   ...    ...  ...  ...    ...  ...  ...  ...   \n",
       "56379  202100056380     2     1  2021  20:30    3   91  91471    1    1    9   \n",
       "56454  202100056455     1     1  2021  19:05    3   80  80825    1    1    9   \n",
       "56464  202100056465     3     1  2021  11:30    1   64  64498    1    2    9   \n",
       "56491  202100056492     1     1  2021  22:00    3   93  93007    1    1    9   \n",
       "56506  202100056507     1     1  2021  04:00    4   14  14119    1    6    9   \n",
       "\n",
       "       col              lat              long  \n",
       "39       3   -17,5279960000   -149,5482580000  \n",
       "332      2    49,0976000000     -1,0605000000  \n",
       "547      4    45,5433702918      6,3019246459  \n",
       "806      6    44,6521040000     -0,6169030000  \n",
       "834      6    44,5639600000      6,0837900000  \n",
       "...    ...              ...               ...  \n",
       "56379    4    48,7141000000      2,1756800000  \n",
       "56454    6    49,9594075089      1,8430694944  \n",
       "56464    7    43,1454570000     -0,1490310000  \n",
       "56491    6    48,9550900000      2,4575400000  \n",
       "56506    6    49,1419520000     -0,2456690000  \n",
       "\n",
       "[293 rows x 14 columns]"
      ]
     },
     "execution_count": 54,
     "metadata": {},
     "output_type": "execute_result"
    }
   ],
   "source": [
    "df_caract[df_caract[\"atm\"]==9]"
   ]
  },
  {
   "cell_type": "code",
   "execution_count": null,
   "metadata": {},
   "outputs": [],
   "source": [
    "dico = {1:'Normal', 2:'Risky', 3:'Risky', 4:'Risky', 5:'Risky', 6:'Risky',7:'Risky', 8:'Normal', 9:'Normal'}"
   ]
  },
  {
   "cell_type": "code",
   "execution_count": 53,
   "metadata": {},
   "outputs": [
    {
     "data": {
      "text/plain": [
       "Num_Acc            0\n",
       "id_vehicule        0\n",
       "num_veh            0\n",
       "senc               0\n",
       "catv               0\n",
       "obs                0\n",
       "obsm               0\n",
       "choc               0\n",
       "manv               0\n",
       "motor              0\n",
       "occutc         96571\n",
       "dtype: int64"
      ]
     },
     "execution_count": 53,
     "metadata": {},
     "output_type": "execute_result"
    }
   ],
   "source": [
    "df_veh.isna().sum()"
   ]
  }
 ],
 "metadata": {
  "kernelspec": {
   "display_name": ".venv",
   "language": "python",
   "name": "python3"
  },
  "language_info": {
   "codemirror_mode": {
    "name": "ipython",
    "version": 3
   },
   "file_extension": ".py",
   "mimetype": "text/x-python",
   "name": "python",
   "nbconvert_exporter": "python",
   "pygments_lexer": "ipython3",
   "version": "3.11.4"
  },
  "orig_nbformat": 4
 },
 "nbformat": 4,
 "nbformat_minor": 2
}
