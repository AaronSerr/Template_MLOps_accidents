{
 "cells": [
  {
   "cell_type": "markdown",
   "metadata": {},
   "source": [
    "# 1. Getting Started\n",
    "## a) Connection à Weights and Biases"
   ]
  },
  {
   "cell_type": "code",
   "execution_count": null,
   "metadata": {},
   "outputs": [],
   "source": [
    "# 1. Log in to your W&B account\n",
    "import wandb\n",
    "\n",
    "wandb.login()"
   ]
  },
  {
   "cell_type": "markdown",
   "metadata": {},
   "source": [
    "## b) Première run W&B"
   ]
  },
  {
   "cell_type": "code",
   "execution_count": null,
   "metadata": {},
   "outputs": [],
   "source": [
    "# 2. Start a W&B Run\n",
    "run = wandb.init(\n",
    "    project=\"classification-car-accidents\",\n",
    "    name='My first run',\n",
    "    tags=[\"baseline\", \"random-forest\"],\n",
    ")"
   ]
  },
  {
   "cell_type": "code",
   "execution_count": null,
   "metadata": {},
   "outputs": [],
   "source": [
    "#  3. Capture a dictionary of hyperparameters\n",
    "params = {\"n_estimators\": 2, \"criterion\": 'gini', \"max_depth\": 2}\n",
    "\n",
    "wandb.config = params"
   ]
  },
  {
   "cell_type": "code",
   "execution_count": null,
   "metadata": {},
   "outputs": [],
   "source": [
    "# 4. Train the model\n",
    "import pandas as pd \n",
    "from sklearn.ensemble import RandomForestClassifier\n",
    "import numpy as np\n",
    "\n",
    "X_train = pd.read_csv('../data/preprocessed/X_train.csv')\n",
    "X_test = pd.read_csv('../data/preprocessed/X_test.csv')\n",
    "y_train = pd.read_csv('../data/preprocessed/y_train.csv')\n",
    "y_test = pd.read_csv('../data/preprocessed/y_test.csv')\n",
    "y_train = np.ravel(y_train)\n",
    "y_test = np.ravel(y_test)\n",
    "\n",
    "rf_classifier = RandomForestClassifier(**params)\n",
    "\n",
    "rf_classifier.fit(X_train, y_train)"
   ]
  },
  {
   "cell_type": "code",
   "execution_count": null,
   "metadata": {},
   "outputs": [],
   "source": [
    "# 5. Capture a dictionary of metrics\n",
    "train_accuracy = rf_classifier.score(X_train, y_train)\n",
    "test_accuracy = rf_classifier.score(X_test, y_test)\n",
    "wandb.log({\"train_accuracy\": train_accuracy, \"test_accuracy\": test_accuracy})"
   ]
  },
  {
   "cell_type": "code",
   "execution_count": null,
   "metadata": {},
   "outputs": [],
   "source": [
    "# 6. Track model artifact\n",
    "import joblib\n",
    "\n",
    "#Save the trained model to a file\n",
    "model_filename = '../models/trained_model.joblib'\n",
    "joblib.dump(rf_classifier, model_filename)\n",
    "\n",
    "#Track the file\n",
    "wandb.log_artifact(model_filename)"
   ]
  },
  {
   "cell_type": "code",
   "execution_count": null,
   "metadata": {},
   "outputs": [],
   "source": [
    "# 7. Finish the run\n",
    "wandb.finish()"
   ]
  },
  {
   "cell_type": "markdown",
   "metadata": {},
   "source": [
    "# 2. Visualisation des métriques\n",
    "\n",
    "## c) Seconde Run W&B"
   ]
  },
  {
   "cell_type": "code",
   "execution_count": null,
   "metadata": {},
   "outputs": [],
   "source": [
    "# 1. Log in to your W&B account\n",
    "wandb.login()\n",
    "\n",
    "# 2. Start a W&B Run\n",
    "run = wandb.init(\n",
    "    project=\"classification-car-accidents\",\n",
    "    name='My second run',\n",
    "    tags=[\"baseline\", \"Decision Tree\"],\n",
    ")\n",
    "\n",
    "#  3. Capture a dictionary of hyperparameters\n",
    "params = {\"criterion\": 'gini', \"max_depth\": 10}\n",
    "\n",
    "wandb.config = params\n",
    "\n",
    "# 4. Train the model\n",
    "from sklearn.tree import DecisionTreeClassifier\n",
    "\n",
    "dt_classifier = DecisionTreeClassifier(**params)\n",
    "dt_classifier.fit(X_train, y_train)"
   ]
  },
  {
   "cell_type": "code",
   "execution_count": null,
   "metadata": {},
   "outputs": [],
   "source": [
    "# 5. Capture a dictionary of metrics \n",
    "train_accuracy = dt_classifier.score(X_train, y_train)\n",
    "test_accuracy = dt_classifier.score(X_test, y_test)\n",
    "wandb.log({\"train_accuracy\": train_accuracy, \"test_accuracy\": test_accuracy})"
   ]
  },
  {
   "cell_type": "code",
   "execution_count": null,
   "metadata": {},
   "outputs": [],
   "source": [
    "# 6. Track plots and log artifacts with sklearn.plot_classifier\n",
    "y_pred = dt_classifier.predict(X_test)\n",
    "y_probas = dt_classifier.predict_proba(X_test)\n",
    "labels = ['non-prioritary accident', 'prioritary accident']\n",
    "\n",
    "wandb.sklearn.plot_classifier(\n",
    "    dt_classifier,\n",
    "    X_train,\n",
    "    X_test,\n",
    "    y_train,\n",
    "    y_test,\n",
    "    y_pred,\n",
    "    y_probas,\n",
    "    labels,\n",
    "    model_name=\"Decision Tree\",\n",
    "    feature_names=X_train.columns,\n",
    ")\n",
    "\n",
    "# 7. Finish the run\n",
    "wandb.finish()"
   ]
  },
  {
   "cell_type": "markdown",
   "metadata": {},
   "source": [
    "## b) Comparer les runs entre elles"
   ]
  },
  {
   "cell_type": "code",
   "execution_count": null,
   "metadata": {},
   "outputs": [],
   "source": [
    "# 1. Log in to your W&B account\n",
    "wandb.login()\n",
    "\n",
    "# 2. Start a W&B Run\n",
    "run = wandb.init(\n",
    "    project=\"classification-car-accidents\",\n",
    "    name='My third run',\n",
    "    tags=[\"baseline\", \"Decision Tree\"],\n",
    ")\n",
    "\n",
    "#  3. Capture a dictionary of hyperparameters\n",
    "params = {\"criterion\": 'entropy', \"max_depth\": 20}\n",
    "\n",
    "wandb.config = params\n",
    "\n",
    "# 4. Train the model\n",
    "from sklearn.tree import DecisionTreeClassifier\n",
    "\n",
    "dt_classifier = DecisionTreeClassifier(**params)\n",
    "dt_classifier.fit(X_train, y_train)\n",
    "\n",
    "# 5. Capture a dictionary of metrics \n",
    "train_accuracy = dt_classifier.score(X_train, y_train)\n",
    "test_accuracy = dt_classifier.score(X_test, y_test)\n",
    "wandb.log({\"train_accuracy\": train_accuracy, \"test_accuracy\": test_accuracy})\n",
    "\n",
    "# 6. Track plots and log artifacts with sklearn.plot_classifier\n",
    "y_pred = dt_classifier.predict(X_test)\n",
    "y_probas = dt_classifier.predict_proba(X_test)\n",
    "labels = ['non-prioritary accident', 'prioritary accident']\n",
    "\n",
    "wandb.sklearn.plot_classifier(\n",
    "    dt_classifier,\n",
    "    X_train,\n",
    "    X_test,\n",
    "    y_train,\n",
    "    y_test,\n",
    "    y_pred,\n",
    "    y_probas,\n",
    "    labels,\n",
    "    model_name=\"Decision Tree\",\n",
    "    feature_names=X_train.columns,\n",
    ")\n",
    "\n",
    "# 7. Finish the run\n",
    "wandb.finish()"
   ]
  },
  {
   "cell_type": "markdown",
   "metadata": {},
   "source": [
    "# 3. Sweeps\n",
    "## b) Méthodes et hyperparamètres"
   ]
  },
  {
   "cell_type": "code",
   "execution_count": null,
   "metadata": {},
   "outputs": [],
   "source": [
    "# 1. Pick a method\n",
    "sweep_config = {\n",
    "    'method': 'random'\n",
    "    }"
   ]
  },
  {
   "cell_type": "code",
   "execution_count": null,
   "metadata": {},
   "outputs": [],
   "source": [
    "# 2. Name hyperparameters\n",
    "parameters_dict = {\n",
    "    'criterion': {\n",
    "        'values': ['gini', 'entropy', 'log_loss']\n",
    "        },\n",
    "    'splitter': {\n",
    "        'values': ['best', 'random']\n",
    "        },\n",
    "    'max_depth': {\n",
    "          'values': [None, 10, 20, 50, 100, 200, 500]\n",
    "        },\n",
    "    'random_state': {\n",
    "        'values': [42]\n",
    "    }\n",
    "    }\n",
    "\n",
    "sweep_config['parameters'] = parameters_dict"
   ]
  },
  {
   "cell_type": "markdown",
   "metadata": {},
   "source": [
    "## c) Lancement du Sweep"
   ]
  },
  {
   "cell_type": "code",
   "execution_count": null,
   "metadata": {},
   "outputs": [],
   "source": [
    "from sklearn.tree import DecisionTreeClassifier\n",
    "\n",
    "# 3. Initialize the sweep\n",
    "sweep_id = wandb.sweep(sweep_config, project=\"classification-car-accidents\")\n",
    "\n",
    "# 4. Define the training function\n",
    "def train(parameters=None):\n",
    "    run = wandb.init(\n",
    "        project=\"classification-car-accidents\",\n",
    "        tags=[\"sweep\", \"Decision Tree\"],\n",
    "        config=parameters\n",
    "    )\n",
    "\n",
    "    parameters = wandb.config\n",
    "    \n",
    "    dt_classifier = DecisionTreeClassifier(**parameters)\n",
    "    dt_classifier.fit(X_train, y_train)\n",
    "\n",
    "    train_accuracy = dt_classifier.score(X_train, y_train)\n",
    "    test_accuracy = dt_classifier.score(X_test, y_test)\n",
    "    wandb.log({\"train_accuracy\": train_accuracy, \"test_accuracy\": test_accuracy})\n",
    "\n",
    "    wandb.finish()\n",
    "\n",
    "# 5. Run the sweep agent\n",
    "wandb.agent(sweep_id, train, count=5)"
   ]
  }
 ],
 "metadata": {
  "kernelspec": {
   "display_name": "my_env",
   "language": "python",
   "name": "python3"
  },
  "language_info": {
   "codemirror_mode": {
    "name": "ipython",
    "version": 3
   },
   "file_extension": ".py",
   "mimetype": "text/x-python",
   "name": "python",
   "nbconvert_exporter": "python",
   "pygments_lexer": "ipython3",
   "version": "3.12.2"
  }
 },
 "nbformat": 4,
 "nbformat_minor": 2
}
